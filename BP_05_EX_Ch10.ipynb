{
  "nbformat": 4,
  "nbformat_minor": 0,
  "metadata": {
    "colab": {
      "provenance": [],
      "authorship_tag": "ABX9TyOm6VJd2CvEvlM1VfD4BdD/",
      "include_colab_link": true
    },
    "kernelspec": {
      "name": "python3",
      "display_name": "Python 3"
    },
    "language_info": {
      "name": "python"
    }
  },
  "cells": [
    {
      "cell_type": "markdown",
      "metadata": {
        "id": "view-in-github",
        "colab_type": "text"
      },
      "source": [
        "<a href=\"https://colab.research.google.com/github/SeungJoo03/BP_05_Ch10/blob/main/BP_05_EX_Ch10.ipynb\" target=\"_parent\"><img src=\"https://colab.research.google.com/assets/colab-badge.svg\" alt=\"Open In Colab\"/></a>"
      ]
    },
    {
      "cell_type": "markdown",
      "source": [
        "1. 다음과 같이 하나의 레이블과 2개의 버튼을 가지는 프로그램을 작성해보자"
      ],
      "metadata": {
        "id": "AoyjOsfCP7Y8"
      }
    },
    {
      "cell_type": "markdown",
      "source": [
        "2. 숫자를 입력하고 \"더하기\" 버튼을 누르면 합계에 더해지고 \"빼기\" 버튼을 누르면 합계에서 배지는 계산기를 작성하여 본다"
      ],
      "metadata": {
        "id": "GuN703ITSQTB"
      }
    },
    {
      "cell_type": "markdown",
      "source": [
        "3. 우리가 앞에서 텍스트 버전으로 제작하였떤 숫자 맞추기 게임을 그래픽 사용자 인터페이스 버전으로 작성해보자."
      ],
      "metadata": {
        "id": "UtdC-oduSY9m"
      }
    },
    {
      "cell_type": "markdown",
      "source": [
        "4. 인치를 센티미터로 변환하는 다음과 같은 프로그램을 작성해보자."
      ],
      "metadata": {
        "id": "TND8D7R0Sdgw"
      }
    },
    {
      "cell_type": "markdown",
      "source": [
        "5. 데이터를 입력받을 때 사용할 수 있는 다음과 같은 애플리케이션을 작성해보자."
      ],
      "metadata": {
        "id": "v0-MRNQiSgnQ"
      }
    },
    {
      "cell_type": "markdown",
      "source": [
        "6. 가위,바위,보 게임을 GUI 버전으로 작성해보자. 사용자의 선택은 왼쪽에 이미지로 표시한다. 컴퓨터의 선택은 오른쪽에 이미지로 표시한다. 사용자는 버튼을 눌러서 가위, 바위, 보 중에서 하나를 선택할 수 있다. 사용자의 선택이 끝나면 결과를 화면에 텍스트로 표시한다."
      ],
      "metadata": {
        "id": "Wr2-I6VwSnJt"
      }
    }
  ]
}